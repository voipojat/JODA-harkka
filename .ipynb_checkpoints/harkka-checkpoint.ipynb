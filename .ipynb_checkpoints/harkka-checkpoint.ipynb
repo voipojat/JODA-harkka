{
 "cells": [],
 "metadata": {
  "environment": {
   "name": "tf2-gpu.2-3.m65",
   "type": "gcloud",
   "uri": "gcr.io/deeplearning-platform-release/tf2-gpu.2-3:m65"
  }
 },
 "nbformat": 4,
 "nbformat_minor": 5
}
